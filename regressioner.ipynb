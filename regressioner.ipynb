{
 "cells": [
  {
   "cell_type": "code",
   "execution_count": 2,
   "metadata": {},
   "outputs": [],
   "source": [
    "import pandas as pd"
   ]
  },
  {
   "cell_type": "code",
   "execution_count": 3,
   "metadata": {},
   "outputs": [],
   "source": [
    "# Load the CSV file into a pandas DataFrame\n",
    "merged_dataset = pd.read_csv(\"merged_dataset.csv\", low_memory=False)"
   ]
  },
  {
   "cell_type": "code",
   "execution_count": 5,
   "metadata": {},
   "outputs": [
    {
     "name": "stdout",
     "output_type": "stream",
     "text": [
      " peakStart peakEnd peakName peakScore FGRstart FGRend FGRstrand region\n",
      "(81357, 97)\n"
     ]
    }
   ],
   "source": [
    "nb_ATAC_seq_rows = 7\n",
    "ATAC_seq_names = merged_dataset.columns[:nb_ATAC_seq_rows+1]\n",
    "all_names = \"\"\n",
    "for name in ATAC_seq_names:\n",
    "    all_names += f' {name}'\n",
    "print(all_names)\n",
    "print(merged_dataset.shape)"
   ]
  },
  {
   "cell_type": "code",
   "execution_count": 13,
   "metadata": {},
   "outputs": [
    {
     "name": "stdout",
     "output_type": "stream",
     "text": [
      "1: AFF1 ... correlation = 0.07907498987501643\n",
      "2: ARNT ... correlation = 0.08498981768406239\n",
      "3: ATF3 ... correlation = 0.2866359470166017\n",
      "4: BCLAF1 ... correlation = 0.0296087523746927\n",
      "5: CBX3 ... correlation = 0.3927152974604886\n",
      "6: CEBPB ... correlation = 0.21037141766379794\n",
      "7: CHAMP1 ... correlation = 0.16914174098451085\n",
      "8: CSDE1 ... correlation = 0.01022344466764569\n",
      "9: CTCF ... correlation = 0.1597666756146674\n",
      "10: DPF2 ... correlation = 0.2924601948528654\n",
      "11: E2F1 ... correlation = 0.12998624613880672\n",
      "12: E2F6 ... correlation = 0.3267707001927008\n",
      "13: EGR1 ... correlation = 0.179949326646087\n",
      "14: ELF1 ... correlation = 0.3739423489129052\n",
      "15: EP300 ... correlation = 0.3545952435445109\n",
      "16: ETV6 ... correlation = 0.116966380528402\n",
      "17: FOXK2 ... correlation = 0.19878921340546438\n",
      "18: GATA1 ... correlation = 0.2336465657309105\n",
      "19: GATA2 ... correlation = 0.25692131739848867\n",
      "20: GTF2F1 ... correlation = 0.13999836323889728\n",
      "21: H3K27me3 ... correlation = -0.09748479033488976\n",
      "22: H3K36me3 ... correlation = -0.056604273426102594\n",
      "23: H3K4me1 ... correlation = 0.19620257568643282\n",
      "24: H3K4me3 ... correlation = 0.41734236027067284\n",
      "25: H3K9ac ... correlation = 0.4342708554502031\n",
      "26: HDAC1 ... correlation = 0.2989186463710246\n",
      "27: HDAC2 ... correlation = 0.2539450924201502\n",
      "28: HDGF ... correlation = 0.008254281120188008\n",
      "29: IKZF1 ... correlation = 0.17800241777152084\n",
      "30: JUN ... correlation = 0.27528694794325465\n",
      "31: KDM1A ... correlation = 0.11971916606846034\n",
      "32: KDM4B ... correlation = 0.3017123767178979\n",
      "33: LEF1 ... correlation = 0.15408874263612285\n",
      "34: MAX ... correlation = 0.39391815935755825\n",
      "35: MCM2 ... correlation = 0.030717457309666938\n",
      "36: MCM5 ... correlation = 0.008330798341663271\n",
      "37: MCM7 ... correlation = 0.04131074692483229\n",
      "38: MITF ... correlation = 0.01865454441045438\n",
      "39: MLLT1 ... correlation = 0.18450765114333664\n",
      "40: MNT ... correlation = 0.16810121157477578\n",
      "41: MTA2 ... correlation = 0.018652656283105872\n",
      "42: MYC ... correlation = 0.40192606743458903\n",
      "43: NCOA1 ... correlation = 0.11827599135198583\n",
      "44: NCOA2 ... correlation = 0.05800839912120832\n",
      "45: NCOR1 ... correlation = 0.20337072628721925\n",
      "46: NFATC3 ... correlation = 0.08135793021777982\n",
      "47: NFE2 ... correlation = 0.12363605798771914\n",
      "48: NFRKB ... correlation = 0.1315885936568595\n",
      "49: NONO ... correlation = 0.11525715293902199\n",
      "50: NR3C1 ... correlation = 0.08760047042630309\n",
      "51: NRF1 ... correlation = 0.3376640305651339\n",
      "52: POLR2A ... correlation = 0.1737191286032613\n",
      "53: POLR2AphosphoS2 ... correlation = 0.21013978894526145\n",
      "54: RAD21 ... correlation = 0.1260436991636899\n",
      "55: RCOR1 ... correlation = 0.37025056706858694\n",
      "56: REST ... correlation = 0.07683493468936604\n",
      "57: RFX1 ... correlation = 0.11905211976431851\n",
      "58: RNF2 ... correlation = 0.4163115662829428\n",
      "59: RUNX1 ... correlation = 0.15740335698959343\n",
      "60: SETDB1 ... correlation = 0.027352679231246856\n",
      "61: SIN3A ... correlation = 0.3004295993145827\n",
      "62: SIRT6 ... correlation = 0.12850944593713945\n",
      "63: SIX5 ... correlation = 0.1703248355773917\n",
      "64: SMARCA4 ... correlation = 0.3472939755784933\n",
      "65: SP1 ... correlation = 0.21043136945010704\n",
      "66: SUZ12 ... correlation = 0.1642921601977514\n",
      "67: TAL1 ... correlation = 0.21219949763062476\n",
      "68: TARDBP ... correlation = 0.3160555107501485\n",
      "69: TBL1XR1 ... correlation = 0.3975200062757416\n",
      "70: TCF12 ... correlation = 0.16103202570921657\n",
      "71: TRIM24 ... correlation = 0.1803282111445578\n",
      "72: TRIM25 ... correlation = 0.010915158335778608\n",
      "73: TRIM28 ... correlation = 0.21574139641770645\n",
      "74: UBTF ... correlation = 0.1346070057954877\n",
      "75: YY1 ... correlation = 0.322569572954327\n",
      "76: ZBTB33 ... correlation = 0.06213039429483519\n",
      "77: ZBTB5 ... correlation = 0.04112105263600999\n",
      "78: ZC3H8 ... correlation = 0.03664856349831134\n",
      "79: ZEB2 ... correlation = 0.012103522364262372\n",
      "80: ZMIZ1 ... correlation = 0.25105650916586186\n",
      "81: ZNF184 ... correlation = 0.013473709972550662\n",
      "82: ZNF24 ... correlation = 0.01356607750410554\n",
      "83: ZNF274 ... correlation = 0.11582987324664354\n",
      "84: ZNF316 ... correlation = 0.06394044910198554\n",
      "85: ZNF318 ... correlation = 0.040085200701856095\n",
      "86: ZNF407 ... correlation = 0.02091842794456874\n",
      "87: ZNF639 ... correlation = 0.0583952183874964\n",
      "88: ZNF830 ... correlation = 0.06060332074984235\n",
      "89: ZSCAN29 ... correlation = 0.06291457156192028\n"
     ]
    }
   ],
   "source": [
    "Protein_names = merged_dataset.columns[nb_ATAC_seq_rows+1:]\n",
    "\n",
    "idx = 0\n",
    "for name in Protein_names:\n",
    "    idx += 1\n",
    "    correlation = merged_dataset['peakScore'].corr(merged_dataset[name])\n",
    "    print(f'{idx}: {name} ... correlation = {correlation}')"
   ]
  }
 ],
 "metadata": {
  "kernelspec": {
   "display_name": "Python 3",
   "language": "python",
   "name": "python3"
  },
  "language_info": {
   "codemirror_mode": {
    "name": "ipython",
    "version": 3
   },
   "file_extension": ".py",
   "mimetype": "text/x-python",
   "name": "python",
   "nbconvert_exporter": "python",
   "pygments_lexer": "ipython3",
   "version": "3.10.12"
  }
 },
 "nbformat": 4,
 "nbformat_minor": 2
}
