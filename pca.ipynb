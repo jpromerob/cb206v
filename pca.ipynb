{
 "cells": [
  {
   "cell_type": "code",
   "execution_count": 15,
   "metadata": {},
   "outputs": [],
   "source": [
    "import numpy as np\n",
    "import json\n",
    "import pandas as pd\n",
    "from sklearn.decomposition import PCA\n",
    "from sklearn.preprocessing import StandardScaler\n",
    "import matplotlib.pyplot as plt"
   ]
  },
  {
   "cell_type": "code",
   "execution_count": 18,
   "metadata": {},
   "outputs": [
    {
     "name": "stdout",
     "output_type": "stream",
     "text": [
      "{'promoter': 0, 'enhancer': 1, 'divergent': 2, 'geneBody': 3, 'CPS': 4, 'TW': 5, 'untranscribed': 6}\n",
      "0\n",
      "1\n",
      "2\n",
      "3\n",
      "4\n",
      "5\n",
      "6\n"
     ]
    },
    {
     "name": "stderr",
     "output_type": "stream",
     "text": [
      "/tmp/ipykernel_393118/1838848750.py:2: DtypeWarning: Columns (6) have mixed types. Specify dtype option on import or set low_memory=False.\n",
      "  merged_dataset = pd.read_csv('merged_dataset.csv')  # Assuming your data is in a CSV file\n"
     ]
    }
   ],
   "source": [
    "\n",
    "\n",
    "# Load your data\n",
    "merged_dataset = pd.read_csv('merged_dataset.csv')  # Assuming your data is in a CSV file\n",
    "\n",
    "# Load from the file\n",
    "with open('region_dict.json', 'r') as file:\n",
    "    region_dict = json.load(file)\n",
    "\n",
    "print(region_dict)\n",
    "len(region_dict)\n",
    "region_labels = list(region_dict.keys())\n",
    "\n"
   ]
  },
  {
   "cell_type": "markdown",
   "metadata": {},
   "source": [
    "# Keeping only 'peakScore', 'region' and all the Proteins"
   ]
  },
  {
   "cell_type": "code",
   "execution_count": 4,
   "metadata": {},
   "outputs": [],
   "source": [
    "\n",
    "# Keep only the 'peakScore' and 'region' columns, followed by the last 89 columns\n",
    "columns_to_keep = ['peakScore', 'region'] + merged_dataset.columns[-89:].tolist()\n",
    "pre_pca_dataset = merged_dataset[columns_to_keep]\n",
    "\n"
   ]
  },
  {
   "cell_type": "code",
   "execution_count": 23,
   "metadata": {},
   "outputs": [
    {
     "name": "stdout",
     "output_type": "stream",
     "text": [
      "0\n",
      "1\n",
      "2\n",
      "3\n",
      "4\n",
      "5\n",
      "6\n"
     ]
    }
   ],
   "source": [
    "\n",
    "\n",
    "for label in region_labels:\n",
    "\n",
    "    print(region_dict[label])\n",
    "    filtered_df = pre_pca_dataset[pre_pca_dataset['region'] == region_dict[label]]\n",
    "\n",
    "\n",
    "    # Extract protein columns (assuming they start from the third column)\n",
    "    protein_data = filtered_df.iloc[:, 2:]  # Adjust this if necessary\n",
    "\n",
    "    # Standardize the data\n",
    "    scaler = StandardScaler()\n",
    "    scaled_data = scaler.fit_transform(protein_data)\n",
    "\n",
    "    # Create a PCA instance\n",
    "    pca = PCA(n_components=2)  # Adjust the number of components as needed\n",
    "\n",
    "    # Fit PCA on the scaled data\n",
    "    pca_result = pca.fit_transform(scaled_data)\n",
    "\n",
    "    # Create a DataFrame for the PCA results\n",
    "    pca_df = pd.DataFrame(data=pca_result, columns=['PC1', 'PC2'])\n",
    "\n",
    "    # Add peak Score and region for plotting\n",
    "    pca_df['peakScore'] = filtered_df['peakScore']\n",
    "    pca_df['region'] = filtered_df['region']\n",
    "\n",
    "    # Plotting the PCA results\n",
    "    plt.figure(figsize=(10, 6))\n",
    "    plt.scatter(pca_df['PC1'], pca_df['PC2'], c=pca_df['peakScore'], cmap='viridis', alpha=0.5)\n",
    "    plt.colorbar(label='Peak Score')\n",
    "    plt.xlabel('PC1')\n",
    "    plt.ylabel('PC2')\n",
    "    plt.title(f'PCA for {label}')\n",
    "    plt.grid()\n",
    "    plt.savefig(f'images/PCA/PCA_1and2_vs_PeakScore_{label}.png')  # Save the figure\n",
    "    plt.close()\n",
    "    \n",
    "\n",
    "    plt.figure(figsize=(10, 6))\n",
    "    plt.scatter(pca_df['PC1'], pca_df['peakScore'])\n",
    "    plt.xlabel('PC1')\n",
    "    plt.ylabel('Peak Score')\n",
    "    plt.title(f'PC1 vs PeakScore for {label}')\n",
    "    plt.grid()\n",
    "    plt.savefig(f'images/PCA/PC1_vs_PeakScore_{label}.png')  # Save the figure\n",
    "    plt.close()\n",
    "\n",
    "    \n",
    "    plt.figure(figsize=(10, 6))\n",
    "    plt.scatter(pca_df['PC2'], pca_df['peakScore'])\n",
    "    plt.xlabel('PC2')\n",
    "    plt.ylabel('Peak Score')\n",
    "    plt.title(f'PC2 vs PeakScore for {label}')\n",
    "    plt.grid()\n",
    "    plt.savefig(f'images/PCA/PC2_vs_PeakScore_{label}.png')  # Save the figure\n",
    "    plt.close()"
   ]
  }
 ],
 "metadata": {
  "kernelspec": {
   "display_name": "Python 3",
   "language": "python",
   "name": "python3"
  },
  "language_info": {
   "codemirror_mode": {
    "name": "ipython",
    "version": 3
   },
   "file_extension": ".py",
   "mimetype": "text/x-python",
   "name": "python",
   "nbconvert_exporter": "python",
   "pygments_lexer": "ipython3",
   "version": "3.10.12"
  }
 },
 "nbformat": 4,
 "nbformat_minor": 2
}
