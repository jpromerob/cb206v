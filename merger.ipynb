{
 "cells": [
  {
   "cell_type": "code",
   "execution_count": 7,
   "metadata": {},
   "outputs": [],
   "source": [
    "import pandas as pd"
   ]
  },
  {
   "cell_type": "code",
   "execution_count": 8,
   "metadata": {},
   "outputs": [],
   "source": [
    "# Load the CSV file into a pandas DataFrame\n",
    "filtered_dataset = pd.read_csv(\"datasets/filtered_dataset.csv\", low_memory=False)\n",
    "nb_ATAC_seq_rows = 7"
   ]
  },
  {
   "cell_type": "code",
   "execution_count": 9,
   "metadata": {},
   "outputs": [
    {
     "name": "stderr",
     "output_type": "stream",
     "text": [
      "/tmp/ipykernel_364510/1830344793.py:5: FutureWarning: DataFrame.groupby with axis=1 is deprecated. Do `frame.T.groupby(...)` without axis instead.\n",
      "  merged_columns = filtered_dataset.groupby(protein_groups, axis=1).mean().astype(int)\n"
     ]
    }
   ],
   "source": [
    "\n",
    "# 1. Extract the protein name from the column headers\n",
    "protein_groups = filtered_dataset.columns.str.split('_').str[1]  # Extract protein names (2nd part of the name)\n",
    "\n",
    "# 2. Group columns by the extracted protein name\n",
    "merged_columns = filtered_dataset.groupby(protein_groups, axis=1).mean().astype(int)\n",
    "\n",
    "merged_dataset = pd.concat([filtered_dataset.iloc[:, :nb_ATAC_seq_rows+1] , merged_columns], axis=1)\n",
    "merged_dataset.to_csv(\"datasets/merged_dataset.csv\", index=False)\n"
   ]
  }
 ],
 "metadata": {
  "kernelspec": {
   "display_name": "Python 3",
   "language": "python",
   "name": "python3"
  },
  "language_info": {
   "codemirror_mode": {
    "name": "ipython",
    "version": 3
   },
   "file_extension": ".py",
   "mimetype": "text/x-python",
   "name": "python",
   "nbconvert_exporter": "python",
   "pygments_lexer": "ipython3",
   "version": "3.10.12"
  }
 },
 "nbformat": 4,
 "nbformat_minor": 2
}
